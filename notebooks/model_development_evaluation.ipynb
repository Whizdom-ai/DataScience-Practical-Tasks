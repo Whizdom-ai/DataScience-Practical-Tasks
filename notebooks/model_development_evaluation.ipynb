{
 "cells": [
  {
   "cell_type": "markdown",
   "metadata": {},
   "source": [
    "### 3. **Model Development and Evaluation Task**\n",
    "\n",
    "**File Name:** `model_development_evaluation.ipynb`\n",
    "\n",
    "**Content:**\n",
    "\n",
    "```markdown\n",
    "# Model Development and Evaluation Task\n",
    "\n",
    "In this task, you are provided with a dataset to build a simple classification model. Your goal is to predict whether a customer will churn based on their features.\n",
    "\n",
    "## Dataset\n",
    "\n",
    "Below is the sample dataset:\n",
    "\n",
    "```csv\n",
    "CustomerID,Age,AnnualIncome,SpendingScore,Churn\n",
    "1,19,15,39,0\n",
    "2,21,81,6,1\n",
    "3,20,16,77,0\n",
    "4,23,54,40,1\n",
    "5,35,78,76,0\n",
    "6,22,17,41,0\n",
    "7,35,57,29,1\n",
    "8,32,58,88,0\n",
    "9,35,60,76,0\n",
    "10,28,62,89,1\n",
    "```\n",
    "\n",
    "## Task\n",
    "\t1.\tBuild a classification model to predict Churn.\n",
    "\t2.\tEvaluate the model using accuracy, precision, recall, and F1-score.\n",
    "\n",
    "## Instructions\n",
    "\t1.\tLoad the dataset from a CSV file.\n",
    "\t2.\tSplit the data into training and testing sets.\n",
    "\t3.\tUse a simple model like Logistic Regression or Decision Trees.\n",
    "\t4.\tEvaluate the model using appropriate metrics.\n",
    "\t5.\tDisplay the results."
   ]
  },
  {
   "cell_type": "code",
   "execution_count": null,
   "metadata": {},
   "outputs": [],
   "source": [
    "# Example of code structure\n",
    "import pandas as pd\n",
    "from sklearn.model_selection import train_test_split\n",
    "from sklearn.linear_model import LogisticRegression\n",
    "from sklearn.metrics import accuracy_score, precision_score, recall_score, f1_score\n",
    "\n",
    "# Load dataset\n",
    "df = pd.read_csv('data/model_development_evaluation.csv')\n",
    "\n",
    "# Your model development and evaluation code here\n",
    "# ...\n",
    "\n",
    "# Display the evaluation metrics\n",
    "print(\"Accuracy:\", accuracy_score(y_test, y_pred))\n",
    "print(\"Precision:\", precision_score(y_test, y_pred))\n",
    "print(\"Recall:\", recall_score(y_test, y_pred))\n",
    "print(\"F1 Score:\", f1_score(y_test, y_pred))"
   ]
  }
 ],
 "metadata": {
  "language_info": {
   "name": "python"
  }
 },
 "nbformat": 4,
 "nbformat_minor": 2
}
