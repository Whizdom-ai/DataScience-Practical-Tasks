{
 "cells": [
  {
   "cell_type": "markdown",
   "metadata": {},
   "source": [
    "# Data Cleaning and Preprocessing Task\n",
    "\n",
    "In this task, you are provided with a dataset that contains missing values and categorical variables. Your goal is to clean the data by handling missing values and encoding the categorical variables.\n",
    "\n",
    "## Dataset\n",
    "\n",
    "Below is the sample dataset:\n",
    "\n",
    "```csv\n",
    "CustomerID,Age,Gender,AnnualIncome,SpendingScore\n",
    "1,19,Female,15,39\n",
    "2,21,Male,,81\n",
    "3,20,Female,16,6\n",
    "4,23,Female,54,77\n",
    "5,,Female,78,40\n",
    "6,22,Female,17,76\n",
    "7,35,Male,57,41\n",
    "8,32,Male,58,\n",
    "9,35,Female,60,29\n",
    "10,28,Male,,88\n",
    "```\n",
    "## Task\n",
    "\n",
    "\t1.\tFill the missing values in the dataset.\n",
    "\t2.\tEncode the Gender column into numeric form.\n",
    "\t3.\tDisplay the cleaned dataset.\n",
    "\n",
    "## Instructions\n",
    "\n",
    "\t1.\tLoad the dataset from a CSV file.\n",
    "\t2.\tUse Pandas to handle missing values.\n",
    "\t3.\tUse Pandas or another library to encode the categorical variables.\n",
    "\t4.\tDisplay the cleaned dataset."
   ]
  },
  {
   "cell_type": "code",
   "execution_count": null,
   "metadata": {},
   "outputs": [],
   "source": [
    "# Example of code structure\n",
    "import pandas as pd\n",
    "\n",
    "# Load dataset\n",
    "df = pd.read_csv('data/data_cleaning_preprocessing.csv')\n",
    "\n",
    "# Your data cleaning code here\n",
    "# ...\n",
    "\n",
    "# Display the cleaned dataset\n",
    "print(df)"
   ]
  }
 ],
 "metadata": {
  "language_info": {
   "name": "python"
  }
 },
 "nbformat": 4,
 "nbformat_minor": 2
}
