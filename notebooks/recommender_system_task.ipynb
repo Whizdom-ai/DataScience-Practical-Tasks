{
 "cells": [
  {
   "cell_type": "markdown",
   "metadata": {},
   "source": [
    "### 4. **Recommender System Implementation Task**\n",
    "\n",
    "**File Name:** `recommender_system_task.ipynb`\n",
    "\n",
    "**Content:**\n",
    "\n",
    "```markdown\n",
    "# Recommender System Implementation Task\n",
    "\n",
    "In this task, you are provided with a dataset containing user ratings for movies. Your goal is to build a basic collaborative filtering recommendation system.\n",
    "\n",
    "## Dataset\n",
    "\n",
    "Below is the sample dataset:\n",
    "\n",
    "```csv\n",
    "UserID,MovieID,Rating\n",
    "1,101,5\n",
    "1,102,3\n",
    "2,101,4\n",
    "2,103,2\n",
    "3,102,4\n",
    "3,104,5\n",
    "4,101,3\n",
    "4,104,4\n",
    "5,103,5\n",
    "5,104,2\n",
    "```\n",
    "## Task\n",
    "\t1.\tImplement a basic user-based collaborative filtering model.\n",
    "\t2.\tRecommend movies to a user based on their past ratings.\n",
    "\n",
    "## Instructions\n",
    "\t1.\tLoad the dataset from a CSV file.\n",
    "\t2.\tCompute the similarity between users.\n",
    "\t3.\tGenerate movie recommendations for a user.\n",
    "\t4.\tDisplay the recommended movies."
   ]
  },
  {
   "cell_type": "code",
   "execution_count": null,
   "metadata": {},
   "outputs": [],
   "source": [
    "# Example of code structure\n",
    "import pandas as pd\n",
    "from sklearn.metrics.pairwise import cosine_similarity\n",
    "\n",
    "# Load dataset\n",
    "df = pd.read_csv('data/recommender_system_task.csv')\n",
    "\n",
    "# Your recommender system code here\n",
    "# ...\n",
    "\n",
    "# Display the recommended movies for a user\n",
    "print(recommendations)"
   ]
  },
  {
   "cell_type": "code",
   "execution_count": null,
   "metadata": {},
   "outputs": [],
   "source": []
  }
 ],
 "metadata": {
  "language_info": {
   "name": "python"
  }
 },
 "nbformat": 4,
 "nbformat_minor": 2
}
