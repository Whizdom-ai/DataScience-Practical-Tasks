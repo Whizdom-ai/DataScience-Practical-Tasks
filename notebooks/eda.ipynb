{
 "cells": [
  {
   "cell_type": "markdown",
   "metadata": {},
   "source": [
    "### 2. **Exploratory Data Analysis (EDA) Task**\n",
    "\n",
    "**File Name:** `eda_task.ipynb`\n",
    "\n",
    "**Content:**\n",
    "\n",
    "```markdown\n",
    "# Exploratory Data Analysis (EDA) Task\n",
    "\n",
    "In this task, you are provided with a dataset containing customer purchase data. Your goal is to perform exploratory data analysis (EDA) to understand the distribution of spending and the relationship between product categories and spending.\n",
    "\n",
    "## Dataset\n",
    "\n",
    "Below is the sample dataset:\n",
    "\n",
    "```csv\n",
    "CustomerID,ProductCategory,AmountSpent,PurchaseDate\n",
    "1,Electronics,500,2023-01-15\n",
    "2,Clothing,120,2023-02-20\n",
    "3,Groceries,230,2023-01-25\n",
    "4,Electronics,600,2023-02-10\n",
    "5,Clothing,150,2023-02-14\n",
    "6,Electronics,700,2023-01-30\n",
    "7,Groceries,250,2023-02-05\n",
    "8,Clothing,100,2023-01-18\n",
    "9,Groceries,220,2023-02-12\n",
    "10,Electronics,550,2023-02-18\n",
    "```\n",
    "\n",
    "## Task\n",
    "\t1.\tVisualize the distribution of AmountSpent.\n",
    "\t2.\tShow the relationship between ProductCategory and AmountSpent.\n",
    "\n",
    "## Instructions\n",
    "\t1.\tLoad the dataset from a CSV file.\n",
    "\t2.\tUse libraries like Matplotlib or Seaborn for visualizations.\n",
    "\t3.\tCreate at least two plots:\n",
    "\t•\tA histogram or boxplot of AmountSpent.\n",
    "\t•\tA bar chart or boxplot showing AmountSpent across different ProductCategory."
   ]
  },
  {
   "cell_type": "code",
   "execution_count": null,
   "metadata": {},
   "outputs": [],
   "source": [
    "# Example of code structure\n",
    "import pandas as pd\n",
    "import seaborn as sns\n",
    "import matplotlib.pyplot as plt\n",
    "\n",
    "# Load dataset\n",
    "df = pd.read_csv('data/eda_task.csv')\n",
    "\n",
    "# Your EDA code here\n",
    "# ...\n",
    "\n",
    "# Display the plots\n",
    "plt.show()"
   ]
  },
  {
   "cell_type": "markdown",
   "metadata": {},
   "source": []
  }
 ],
 "metadata": {
  "language_info": {
   "name": "python"
  }
 },
 "nbformat": 4,
 "nbformat_minor": 2
}
